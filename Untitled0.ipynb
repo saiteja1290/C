{
  "nbformat": 4,
  "nbformat_minor": 0,
  "metadata": {
    "colab": {
      "provenance": [],
      "authorship_tag": "ABX9TyOYKEbjbUZfteKqgI8nWuTq",
      "include_colab_link": true
    },
    "kernelspec": {
      "name": "python3",
      "display_name": "Python 3"
    },
    "language_info": {
      "name": "python"
    }
  },
  "cells": [
    {
      "cell_type": "markdown",
      "metadata": {
        "id": "view-in-github",
        "colab_type": "text"
      },
      "source": [
        "<a href=\"https://colab.research.google.com/github/saiteja1290/C/blob/main/Untitled0.ipynb\" target=\"_parent\"><img src=\"https://colab.research.google.com/assets/colab-badge.svg\" alt=\"Open In Colab\"/></a>"
      ]
    },
    {
      "cell_type": "code",
      "source": [
        "import pandas as pd\n",
        "from sklearn.model_selection import train_test_split\n",
        "from sklearn.linear_model import LinearRegression\n",
        "from sklearn.metrics import mean_squared_error, mean_absolute_error\n",
        "import numpy as np\n",
        "\n",
        "df = pd.read_excel('output.xlsx')\n",
        "\n",
        "\n",
        "df = df.apply(lambda x: abs(x) if x.name.startswith('Price') else x)\n",
        "df.fillna(1500, inplace=True)\n",
        "\n",
        "X = df.drop(['Laptop Model'], axis=1)\n",
        "y = df['Price (Week 50)']\n",
        "\n",
        "\n",
        "X_train, X_test, y_train, y_test = train_test_split(X, y, test_size=0.2, random_state=42)\n",
        "\n",
        "\n",
        "reg_model = LinearRegression()\n",
        "reg_model.fit(X_train, y_train)\n",
        "\n",
        "\n",
        "y_pred = reg_model.predict(X_test)\n",
        "\n",
        "\n",
        "mse = mean_squared_error(y_test, y_pred)\n",
        "rmse = np.sqrt(mse)\n",
        "mae = mean_absolute_error(y_test, y_pred)\n",
        "\n",
        "print(\"Mean Squared Error (MSE):\", mse)\n",
        "print(\"Root Mean Squared Error (RMSE):\", rmse)\n",
        "print(\"Mean Absolute Error (MAE):\", mae)\n",
        "\n",
        "\n"
      ],
      "metadata": {
        "colab": {
          "base_uri": "https://localhost:8080/"
        },
        "id": "Cbv_wGJCx5z2",
        "outputId": "47fc216b-fa32-4299-8718-4c6d0e8ac973"
      },
      "execution_count": 43,
      "outputs": [
        {
          "output_type": "stream",
          "name": "stdout",
          "text": [
            "Mean Squared Error (MSE): 8.204826575604312e-25\n",
            "Root Mean Squared Error (RMSE): 9.058049776637525e-13\n",
            "Mean Absolute Error (MAE): 7.223851146894352e-13\n"
          ]
        }
      ]
    },
    {
      "cell_type": "code",
      "source": [
        "\n",
        "laptop_model = \"Asus TUF Gaming A15\"\n",
        "laptop_data = df[df['Laptop Model'] == laptop_model]\n",
        "\n",
        "\n",
        "X_laptop = laptop_data.drop(['Laptop Model'], axis=1)\n",
        "\n",
        "\n",
        "predicted_price = reg_model.predict(X_laptop)\n",
        "\n",
        "print(\"Predicted price of\", laptop_model, \"in the upcoming week:\", predicted_price)\n"
      ],
      "metadata": {
        "colab": {
          "base_uri": "https://localhost:8080/"
        },
        "id": "F9tgGUKZzIUW",
        "outputId": "bbacf04b-651c-4f19-a8bd-808f0c7ee013"
      },
      "execution_count": null,
      "outputs": [
        {
          "output_type": "stream",
          "name": "stdout",
          "text": [
            "Predicted price of Asus TUF Gaming A15 in the upcoming week: [130.]\n"
          ]
        }
      ]
    },
    {
      "cell_type": "code",
      "source": [],
      "metadata": {
        "id": "kopmdMxuzxwm"
      },
      "execution_count": null,
      "outputs": []
    }
  ]
}